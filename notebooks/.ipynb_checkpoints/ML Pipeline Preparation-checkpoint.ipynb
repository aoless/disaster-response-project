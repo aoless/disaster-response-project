{
 "cells": [
  {
   "cell_type": "markdown",
   "metadata": {},
   "source": [
    "# ML Pipeline Preparation\n",
    "Follow the instructions below to help you create your ML pipeline.\n",
    "### 1. Import libraries and load data from database.\n",
    "- Import Python libraries\n",
    "- Load dataset from database with [`read_sql_table`](https://pandas.pydata.org/pandas-docs/stable/generated/pandas.read_sql_table.html)\n",
    "- Define feature and target variables X and Y"
   ]
  },
  {
   "cell_type": "code",
   "execution_count": null,
   "metadata": {},
   "outputs": [],
   "source": [
    "# import libraries\n",
    "import nltk\n",
    "import numpy as np\n",
    "import pandas as pd\n",
    "\n",
    "from nltk.tokenize import word_tokenize\n",
    "from nltk.stem.wordnet import WordNetLemmatizer\n",
    "from sklearn.ensemble import RandomForestClassifier\n",
    "from sklearn.feature_extraction.text import CountVectorizer, TfidfTransformer\n",
    "from sklearn.model_selection import GridSearchCV\n",
    "from sklearn.model_selection import train_test_split\n",
    "from sklearn.metrics import classification_report\n",
    "from sklearn.multioutput import MultiOutputClassifier\n",
    "from sklearn.pipeline import Pipeline, FeatureUnion\n",
    "from sklearn.svm import LinearSVC\n",
    "from sqlalchemy import create_engine"
   ]
  },
  {
   "cell_type": "code",
   "execution_count": null,
   "metadata": {},
   "outputs": [],
   "source": [
    "nltk.download(\"punkt\")\n",
    "nltk.download(\"wordnet\")\n",
    "nltk.download('averaged_perceptron_tagger')"
   ]
  },
  {
   "cell_type": "code",
   "execution_count": null,
   "metadata": {},
   "outputs": [],
   "source": [
    "# load data from database\n",
    "database_filepath = \"../disaster_response/data/DisasterResponse.db\"\n",
    "engine = create_engine(f\"sqlite:///{database_filepath}\")\n",
    "\n",
    "num_of_feature_cols = 4\n",
    "\n",
    "df = pd.read_sql_table(\"DisasterResponse\", engine)\n",
    "\n",
    "X = df[\"message\"]\n",
    "Y = df[df.columns[num_of_feature_cols:]]"
   ]
  },
  {
   "cell_type": "code",
   "execution_count": null,
   "metadata": {},
   "outputs": [],
   "source": [
    "classes_names = Y.columns.tolist()"
   ]
  },
  {
   "cell_type": "markdown",
   "metadata": {},
   "source": [
    "### 2. Write a tokenization function to process your text data"
   ]
  },
  {
   "cell_type": "code",
   "execution_count": null,
   "metadata": {},
   "outputs": [],
   "source": [
    "def tokenize(text):\n",
    "    lemmatizer = WordNetLemmatizer()\n",
    "    \n",
    "    tokens = word_tokenize(text)\n",
    "    clean_tokens = [lemmatizer.lemmatize(token.lower()) for token in tokens]\n",
    "    return clean_tokens"
   ]
  },
  {
   "cell_type": "markdown",
   "metadata": {},
   "source": [
    "### 3. Build a machine learning pipeline\n",
    "This machine pipeline should take in the `message` column as input and output classification results on the other 36 categories in the dataset. You may find the [MultiOutputClassifier](http://scikit-learn.org/stable/modules/generated/sklearn.multioutput.MultiOutputClassifier.html) helpful for predicting multiple target variables."
   ]
  },
  {
   "cell_type": "code",
   "execution_count": null,
   "metadata": {},
   "outputs": [],
   "source": [
    "pipeline = Pipeline([\n",
    "    (\"c_vect\", CountVectorizer(tokenizer=tokenize)),\n",
    "    (\"tfidf\", TfidfTransformer()),\n",
    "    (\"clf\", MultiOutputClassifier(RandomForestClassifier(n_estimators=200, verbose=1, n_jobs=-1))),\n",
    "])"
   ]
  },
  {
   "cell_type": "markdown",
   "metadata": {},
   "source": [
    "### 4. Train pipeline\n",
    "- Split data into train and test sets\n",
    "- Train pipeline"
   ]
  },
  {
   "cell_type": "code",
   "execution_count": null,
   "metadata": {},
   "outputs": [],
   "source": [
    "X_train, X_test, Y_train, Y_test = train_test_split(X, Y, test_size=0.2, random_state=42) \n",
    "\n",
    "pipeline.fit(X_train, Y_train)"
   ]
  },
  {
   "cell_type": "markdown",
   "metadata": {},
   "source": [
    "### 5. Test your model\n",
    "Report the f1 score, precision and recall for each output category of the dataset. You can do this by iterating through the columns and calling sklearn's `classification_report` on each."
   ]
  },
  {
   "cell_type": "code",
   "execution_count": null,
   "metadata": {},
   "outputs": [],
   "source": [
    "def extract_macro_avg(report):\n",
    "    splitted = [elem.strip() for elem in report.split(\"\\n\")]\n",
    "    macro_avg = splitted[6].split()[4]\n",
    "    \n",
    "    return float(macro_avg)"
   ]
  },
  {
   "cell_type": "code",
   "execution_count": null,
   "metadata": {},
   "outputs": [],
   "source": [
    "Y_pred = pipeline.predict(X_test)\n",
    "macro_avg_list = []\n",
    "\n",
    "for i in range(1, len(classes_names)):\n",
    "    report = classification_report(Y_test.iloc[:, i].values, Y_pred[:, i], zero_division=1)\n",
    "    macro_avg_list.append(extract_macro_avg(report))\n",
    "    print(\"Category:\", classes_names[i], \"\\n\", report)"
   ]
  },
  {
   "cell_type": "code",
   "execution_count": null,
   "metadata": {},
   "outputs": [],
   "source": [
    "overall_avg_score = sum(macro_avg_list) / len(macro_avg_list)\n",
    "print(f\"{overall_avg_score:.3}\")"
   ]
  },
  {
   "cell_type": "markdown",
   "metadata": {},
   "source": [
    "### 6. Improve your model\n",
    "Use grid search to find better parameters. "
   ]
  },
  {
   "cell_type": "code",
   "execution_count": null,
   "metadata": {},
   "outputs": [],
   "source": [
    "parameters = {\n",
    "#     \"c_vect__ngram_range\": ((1, 1), (1, 2)),\n",
    "#     \"c_vect__max_df\": (0.75, 0.90, 1.0),\n",
    "#     \"c_vect__max_features\": (5000, 10000),\n",
    "#     \"tfidf__use_idf\": (True, False),\n",
    "#     \"tfidf__smooth_idf\": (True, False),\n",
    "#     \"tfidf__sublinear_tf\": (True, False),\n",
    "    \"clf__estimator__n_estimators\": [300],\n",
    "}\n",
    "\n",
    "cv = GridSearchCV(pipeline, parameters)"
   ]
  },
  {
   "cell_type": "markdown",
   "metadata": {},
   "source": [
    "### 7. Test your model\n",
    "Show the accuracy, precision, and recall of the tuned model.  \n",
    "\n",
    "Since this project focuses on code quality, process, and  pipelines, there is no minimum performance metric needed to pass. However, make sure to fine tune your models for accuracy, precision and recall to make your project stand out - especially for your portfolio!"
   ]
  },
  {
   "cell_type": "code",
   "execution_count": null,
   "metadata": {},
   "outputs": [],
   "source": [
    "cv.best_estimator_"
   ]
  },
  {
   "cell_type": "markdown",
   "metadata": {},
   "source": [
    "### 8. Try improving your model further. Here are a few ideas:\n",
    "* try other machine learning algorithms\n",
    "* add other features besides the TF-IDF"
   ]
  },
  {
   "cell_type": "code",
   "execution_count": null,
   "metadata": {},
   "outputs": [],
   "source": [
    "from sklearn.base import BaseEstimator, TransformerMixin\n",
    "\n",
    "class PosCounter(BaseEstimator, TransformerMixin):\n",
    "    \n",
    "    def pos_tagger(self, text):\n",
    "        tokenized = tokenize(text)\n",
    "\n",
    "        tagged = nltk.pos_tag(tokenized)\n",
    "\n",
    "        part_of_speech_list = []\n",
    "\n",
    "        for word_tag_pair in tagged:\n",
    "            tag = word_tag_pair[1]\n",
    "            if tag[0] == \"V\":\n",
    "                part_of_speech_list.append(\"verb\")\n",
    "            elif tag[0] == \"N\":\n",
    "                part_of_speech_list.append(\"noun\")\n",
    "            elif tag[0] == \"J\":\n",
    "                part_of_speech_list.append(\"adjective\")\n",
    "\n",
    "        return part_of_speech_list\n",
    "    \n",
    "    def count_pos(self, l, pos):\n",
    "        return l.count(pos)\n",
    "    \n",
    "    def fit(self, X, y=None):\n",
    "        return self\n",
    "    \n",
    "    def transform(self, X):\n",
    "        X = pd.DataFrame(X.apply(self.pos_tagger))\n",
    "        \n",
    "        for pos in (\"verb\", \"noun\", \"adjective\"):\n",
    "            X[pos] = X[\"message\"].apply(lambda l: self.count_pos(l, pos))\n",
    "\n",
    "        del X['message']\n",
    "        \n",
    "        return X"
   ]
  },
  {
   "cell_type": "code",
   "execution_count": null,
   "metadata": {},
   "outputs": [],
   "source": [
    "pc = PosCounter()\n",
    "pc.transform(X)"
   ]
  },
  {
   "cell_type": "code",
   "execution_count": null,
   "metadata": {},
   "outputs": [],
   "source": [
    "pipeline = Pipeline([\n",
    "    (\"features\", FeatureUnion([\n",
    "        (\"nlp_pipeline\", Pipeline([\n",
    "            (\"c_vect\", CountVectorizer(tokenizer=tokenize, ngram_range=(1, 2), max_df=0.95)),\n",
    "            (\"tfidf\", TfidfTransformer(use_idf=True, smooth_idf=True)),\n",
    "        ])),\n",
    "\n",
    "        (\"pos_counter\", PosCounter()),\n",
    "    ])),\n",
    "    (\"clf\", MultiOutputClassifier(LinearSVC(verbose=2, max_iter=100000))),\n",
    "])"
   ]
  },
  {
   "cell_type": "code",
   "execution_count": null,
   "metadata": {},
   "outputs": [],
   "source": [
    "X_train, X_test, Y_train, Y_test = train_test_split(X, Y, test_size=0.2, random_state=42) \n",
    "\n",
    "pipeline.fit(X_train, Y_train)"
   ]
  },
  {
   "cell_type": "code",
   "execution_count": null,
   "metadata": {},
   "outputs": [],
   "source": [
    "Y_pred = pipeline.predict(X_test)\n",
    "macro_avg_list = []\n",
    "\n",
    "for i in range(1, len(classes_names)):\n",
    "    report = classification_report(Y_test.iloc[:, i].values, Y_pred[:, i], zero_division=1)\n",
    "    macro_avg_list.append(extract_macro_avg(report))\n",
    "    print(\"Category:\", classes_names[i], \"\\n\", report)"
   ]
  },
  {
   "cell_type": "code",
   "execution_count": null,
   "metadata": {},
   "outputs": [],
   "source": [
    "overall_avg_score = sum(macro_avg_list) / len(macro_avg_list)\n",
    "print(f\"{overall_avg_score:.3}\")"
   ]
  },
  {
   "cell_type": "markdown",
   "metadata": {},
   "source": [
    "### 9. Export your model as a pickle file"
   ]
  },
  {
   "cell_type": "code",
   "execution_count": null,
   "metadata": {},
   "outputs": [],
   "source": []
  },
  {
   "cell_type": "markdown",
   "metadata": {},
   "source": [
    "### 10. Use this notebook to complete `train.py`\n",
    "Use the template file attached in the Resources folder to write a script that runs the steps above to create a database and export a model based on a new dataset specified by the user."
   ]
  },
  {
   "cell_type": "code",
   "execution_count": null,
   "metadata": {},
   "outputs": [],
   "source": []
  }
 ],
 "metadata": {
  "kernelspec": {
   "display_name": "Python 3",
   "language": "python",
   "name": "python3"
  },
  "language_info": {
   "codemirror_mode": {
    "name": "ipython",
    "version": 3
   },
   "file_extension": ".py",
   "mimetype": "text/x-python",
   "name": "python",
   "nbconvert_exporter": "python",
   "pygments_lexer": "ipython3",
   "version": "3.6.9"
  }
 },
 "nbformat": 4,
 "nbformat_minor": 4
}
